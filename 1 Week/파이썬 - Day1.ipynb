{
 "cells": [
  {
   "cell_type": "code",
   "execution_count": 5,
   "id": "ffc701af",
   "metadata": {},
   "outputs": [
    {
     "name": "stdout",
     "output_type": "stream",
     "text": [
      "이름을 입력하세요김유민\n",
      "안녕하세요 김유민 님.\n"
     ]
    }
   ],
   "source": [
    "name = input(\"이름을 입력하세요\")\n",
    "print(f\"안녕하세요 {name} 님.\")"
   ]
  },
  {
   "cell_type": "code",
   "execution_count": 7,
   "id": "3fc36a40",
   "metadata": {},
   "outputs": [
    {
     "name": "stdout",
     "output_type": "stream",
     "text": [
      "정사각형의 한변의 길이를 입력하세요5\n",
      "정사각형의 넓이는 25 입니다\n"
     ]
    }
   ],
   "source": [
    "length = input(\"정사각형의 한변의 길이를 입력하세요\")\n",
    "print(f'정사각형의 넓이는 {int(length)**2} 입니다')"
   ]
  },
  {
   "cell_type": "code",
   "execution_count": 1,
   "id": "581a6ed5",
   "metadata": {},
   "outputs": [
    {
     "name": "stdout",
     "output_type": "stream",
     "text": [
      "a를 입력해주세요 : 1\n",
      "b를 입력해주세요 : 2\n",
      "c를 입력해주세요 : 3\n",
      "d를 입력해주세요 : 4\n",
      "최대값은 4 입니다\n"
     ]
    }
   ],
   "source": [
    "def max4(a,b,c,d) :\n",
    "    max = a\n",
    "    if max < b :\n",
    "        max = b\n",
    "    if max < c :\n",
    "        max = c\n",
    "    if max < d :\n",
    "        max = d\n",
    "        \n",
    "    return max\n",
    "\n",
    "a = int(input('a를 입력해주세요 : '))\n",
    "b = int(input('b를 입력해주세요 : '))\n",
    "c = int(input('c를 입력해주세요 : '))\n",
    "d = int(input('d를 입력해주세요 : '))\n",
    "\n",
    "print(f'최대값은 {max4(a,b,c,d)} 입니다')"
   ]
  },
  {
   "cell_type": "code",
   "execution_count": 9,
   "id": "7caa44c8",
   "metadata": {},
   "outputs": [
    {
     "name": "stdout",
     "output_type": "stream",
     "text": [
      "수도 회사를 입력하세요 : C\n",
      "수도 사용량을 입력해주세요 (단위 L) : 50\n",
      "회사를 잘못 입력하셨습니다 ! \n",
      "물 사용량은 0 입니다.\n"
     ]
    }
   ],
   "source": [
    "def waterPay(co, water) :\n",
    "    if co == 'A' :\n",
    "        return water * 100\n",
    "    \n",
    "    elif co == 'B' :\n",
    "        if water > 50 :\n",
    "            return (50 * 150) + ((water - 50) * 75)\n",
    "        else :\n",
    "            return water * 150\n",
    "    \n",
    "    else :\n",
    "        print('회사를 잘못 입력하셨습니다 ! ')\n",
    "        return 0\n",
    "\n",
    "company = input('수도 회사를 입력하세요 : ')\n",
    "water = int(input('수도 사용량을 입력해주세요 (단위 L) : '))\n",
    "\n",
    "print(f'물 사용량은 {waterPay(company, water)} 입니다.')"
   ]
  },
  {
   "cell_type": "code",
   "execution_count": null,
   "id": "febe6dfd",
   "metadata": {},
   "outputs": [
    {
     "name": "stdout",
     "output_type": "stream",
     "text": [
      "a부터 b까지 정수의 합을 구합니다.\n"
     ]
    }
   ],
   "source": [
    "print('a부터 b까지 정수의 합을 구합니다.')\n",
    "\n",
    "a = int(input('정수 a를 입력하세요.: '))\n",
    "b = int(input('정수 b를 입력하세요.: '))\n",
    "\n",
    "if a > b:\n",
    "    a, b = b, a\n",
    "    \n",
    "sum = 0\n",
    "\n",
    "for i in range(a, b+1):\n",
    "    if i < b:\n",
    "        print(f'{i} + ', end='')\n",
    "    sum +=i\n",
    "    \n",
    "print(f'{b} = ', end='')\n",
    "\n",
    "print(sum)"
   ]
  },
  {
   "cell_type": "code",
   "execution_count": 18,
   "id": "6ded5b38",
   "metadata": {},
   "outputs": [
    {
     "name": "stdout",
     "output_type": "stream",
     "text": [
      "직사각형의 넓이를 입력하세요.: 50\n",
      "1 x 50\n",
      "2 x 25\n",
      "5 x 10\n",
      "10 x 5\n",
      "25 x 2\n",
      "50 x 1\n"
     ]
    }
   ],
   "source": [
    "area = int(input('직사각형의 넓이를 입력하세요.: '))\n",
    "\n",
    "for i in range(1, area + 1):\n",
    "    #if i * i > area: break       \n",
    "    if area % i: continue\n",
    "    print(f'{i} x {area // i}')\n",
    "    \n",
    "    "
   ]
  },
  {
   "cell_type": "code",
   "execution_count": 29,
   "id": "9ec4146f",
   "metadata": {},
   "outputs": [
    {
     "name": "stdout",
     "output_type": "stream",
     "text": [
      "전기 사용료를 입력해주세요 (단위 kWh) : 250\n",
      "한달 전기 사용료는 33717 입니다\n"
     ]
    }
   ],
   "source": [
    "#실습1\n",
    "def electricPay(usage) :\n",
    "    base_pay = 0\n",
    "    pay = 0\n",
    "    if usage < 100 :\n",
    "        base_pay = 410\n",
    "        pay = (base_pay + (usage * 60.7)) + base_pay\n",
    "    \n",
    "    elif usage >= 100 and usage <= 200 :\n",
    "        base_pay = 910\n",
    "        pay = ((100*60.7) + ((usage - 100) * 125.9)) + base_pay\n",
    "        \n",
    "    else :\n",
    "        base_pay = 1600\n",
    "        pay = ((100*60.7) + (100*125.9) + ((usage - 200)*187.9)) + base_pay\n",
    "        \n",
    "    return int(pay + (pay * 0.1) + (pay * 0.037))\n",
    "    \n",
    "usage = int(input('전기 사용료를 입력해주세요 (단위 kWh) : '))    \n",
    "print(f'한달 전기 사용료는 {electricPay(usage)} 입니다')\n",
    "    "
   ]
  },
  {
   "cell_type": "code",
   "execution_count": 32,
   "id": "8857fd22",
   "metadata": {},
   "outputs": [
    {
     "name": "stdout",
     "output_type": "stream",
     "text": [
      "몇개를 출력할까요 ? : 12\n",
      "+-+-+-+-+-+-"
     ]
    }
   ],
   "source": [
    "#실습2\n",
    "def iter_plue_minus(iter) : \n",
    "    for i in range(1,iter+1) :\n",
    "        if i%2 :\n",
    "            print('+',end=\"\")\n",
    "        else :\n",
    "            print('-',end=\"\")\n",
    "\n",
    "iter = int(input('몇개를 출력할까요 ? : '))\n",
    "iter_plue_minus(iter)"
   ]
  },
  {
   "cell_type": "code",
   "execution_count": 35,
   "id": "73d5a7ce",
   "metadata": {},
   "outputs": [
    {
     "name": "stdout",
     "output_type": "stream",
     "text": [
      "1 2 3 4 5 6 7 9 10 11 12 "
     ]
    }
   ],
   "source": [
    "#실습3\n",
    "for i in range(1,13) :\n",
    "    if i==8 :\n",
    "        continue\n",
    "    print(i,end=\" \")"
   ]
  },
  {
   "cell_type": "code",
   "execution_count": 51,
   "id": "c8d7306a",
   "metadata": {},
   "outputs": [
    {
     "name": "stdout",
     "output_type": "stream",
     "text": [
      "num : 1024\n",
      "root : 4, pwr : 5\n",
      "root : 32, pwr : 2\n"
     ]
    }
   ],
   "source": [
    "#실습4\n",
    "def find_root_pwr(num) :\n",
    "    count = 0\n",
    "    for i in range(2, num) :\n",
    "        for j in range(2,6) :\n",
    "            if i**j == num :\n",
    "                print(f'root : {i}, pwr : {j}')\n",
    "                count += 1\n",
    "                \n",
    "    if count == 0 :\n",
    "        print('해당하는 정수쌍이 없습니다.')\n",
    "        return\n",
    "    return\n",
    "\n",
    "num = int(input('num : '))\n",
    "find_root_pwr(num)"
   ]
  },
  {
   "cell_type": "code",
   "execution_count": 59,
   "id": "e718b6f8",
   "metadata": {},
   "outputs": [
    {
     "name": "stdout",
     "output_type": "stream",
     "text": [
      "a : 12\n",
      "b : 24\n",
      "12\n"
     ]
    }
   ],
   "source": [
    "#추가 실습1\n",
    "def solution(a, b):\n",
    "    list = []\n",
    "    for i in range(2, max(a,b)) :\n",
    "        if a%i == 0 and b%i == 0 :\n",
    "            list.append(i)\n",
    "    answer = max(list)\n",
    "    return answer\n",
    "\n",
    "a = int(input('a : '))\n",
    "b = int(input('b : '))\n",
    "c = solution(a,b)\n",
    "print(c)"
   ]
  },
  {
   "cell_type": "code",
   "execution_count": 70,
   "id": "27643ef7",
   "metadata": {},
   "outputs": [
    {
     "name": "stdout",
     "output_type": "stream",
     "text": [
      "a : 12\n",
      "b : 16\n",
      "48\n"
     ]
    }
   ],
   "source": [
    "#추가 실습2\n",
    "def solution(a, b):\n",
    "    answer = 0\n",
    "    for i in range(max(a,b), (a*b)+1) :\n",
    "        if i%a == 0 and i%b == 0 :\n",
    "            answer = i\n",
    "            break\n",
    "            \n",
    "    return answer\n",
    "\n",
    "a = int(input('a : '))\n",
    "b = int(input('b : '))\n",
    "c = solution(a,b)\n",
    "print(c)"
   ]
  },
  {
   "cell_type": "code",
   "execution_count": 82,
   "id": "c43ed9e0",
   "metadata": {},
   "outputs": [
    {
     "name": "stdout",
     "output_type": "stream",
     "text": [
      "71\n",
      "12\n"
     ]
    }
   ],
   "source": [
    "#추가 실습3\n",
    "\n",
    "origin = int(input())\n",
    "count = 0\n",
    "\n",
    "n = origin\n",
    "while True : \n",
    "    front = n%10\n",
    "    back = ((n//10) + front)%10\n",
    "    \n",
    "    n = front*10 + back\n",
    "    count += 1\n",
    "    \n",
    "    if origin == n :\n",
    "        break\n",
    "        \n",
    "\n",
    "print(count)"
   ]
  },
  {
   "cell_type": "code",
   "execution_count": 84,
   "id": "707dc65d",
   "metadata": {},
   "outputs": [
    {
     "name": "stdout",
     "output_type": "stream",
     "text": [
      "left : 24\n",
      "right : 27\n",
      "52\n"
     ]
    }
   ],
   "source": [
    "#추가 실습4\n",
    "def solution(left, right):\n",
    "    answer = 0\n",
    "    \n",
    "    for i in range(left, right+1) :\n",
    "        count = 0\n",
    "        for j in range(1, i+1) :\n",
    "            if i%j == 0 :\n",
    "                count+=1\n",
    "        if count%2 :\n",
    "            answer -= i\n",
    "        else : answer += i\n",
    "            \n",
    "    return answer\n",
    "\n",
    "left = int(input('left : '))\n",
    "right = int(input('right : '))\n",
    "c = solution(left, right)\n",
    "print(c)"
   ]
  },
  {
   "cell_type": "code",
   "execution_count": 93,
   "id": "dab2eb54",
   "metadata": {},
   "outputs": [
    {
     "name": "stdout",
     "output_type": "stream",
     "text": [
      "숫자로 이루어진 문자열을 입력하세요. 2150897\n",
      "7560\n"
     ]
    }
   ],
   "source": [
    "#추가 실습5\n",
    "data = input('숫자로 이루어진 문자열을 입력하세요. ')\n",
    "\n",
    "sum = int(data[0]) :\n",
    "for i in data :\n",
    "    if i == '0' :\n",
    "        sum += 0\n",
    "    elif i == '1' :\n",
    "        sum += 1\n",
    "    elif sum !=0 :\n",
    "        sum *= int(i)\n",
    "    else :\n",
    "        sum += int(i)\n",
    "\n",
    "        \n",
    "result = sum\n",
    "\n",
    "print(result)"
   ]
  },
  {
   "cell_type": "code",
   "execution_count": 97,
   "id": "1983c6a2",
   "metadata": {},
   "outputs": [
    {
     "name": "stdout",
     "output_type": "stream",
     "text": [
      "숫자를 입력하세요. 154091\n",
      "LUCKY\n"
     ]
    }
   ],
   "source": [
    "#추가 실습6\n",
    "n = input('숫자를 입력하세요. ')\n",
    "half = len(n)//2\n",
    "\n",
    "left_sum = 0\n",
    "for i in n[:half] :\n",
    "    left_sum += int(i)\n",
    "\n",
    "right_sum = 0\n",
    "for i in n[half:] :\n",
    "    right_sum += int(i)\n",
    "    \n",
    "if left_sum == right_sum :\n",
    "    print(\"LUCKY\")\n",
    "else : print(\"READY\")"
   ]
  },
  {
   "cell_type": "code",
   "execution_count": 102,
   "id": "a9ea0cf1",
   "metadata": {},
   "outputs": [
    {
     "name": "stdout",
     "output_type": "stream",
     "text": [
      "144\n",
      "169\n"
     ]
    }
   ],
   "source": [
    "def solution(n):\n",
    "    for i in range(n) :\n",
    "        if i**2 == n :\n",
    "            return (i+1)**2\n",
    "    \n",
    "    return -1\n",
    "\n",
    "n = int(input())\n",
    "print(solution(n))"
   ]
  }
 ],
 "metadata": {
  "kernelspec": {
   "display_name": "Python 3 (ipykernel)",
   "language": "python",
   "name": "python3"
  },
  "language_info": {
   "codemirror_mode": {
    "name": "ipython",
    "version": 3
   },
   "file_extension": ".py",
   "mimetype": "text/x-python",
   "name": "python",
   "nbconvert_exporter": "python",
   "pygments_lexer": "ipython3",
   "version": "3.9.13"
  }
 },
 "nbformat": 4,
 "nbformat_minor": 5
}
